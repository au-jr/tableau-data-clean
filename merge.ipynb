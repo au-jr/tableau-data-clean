{
 "cells": [
  {
   "cell_type": "markdown",
   "metadata": {},
   "source": [
    "## Python Notebook File to clean CitiBike Data"
   ]
  },
  {
   "cell_type": "code",
   "execution_count": 39,
   "metadata": {},
   "outputs": [],
   "source": [
    "from pathlib import Path\n",
    "import pandas as pd\n",
    "originPath = '202211-citibike-tripdata_2.csv'\n",
    "\n",
    "pathList = ['202212-citibike-tripdata_2.csv',\n",
    "'202301-citibike-tripdata_2.csv',\n",
    "'202302-citibike-tripdata_2.csv']\n",
    "\n",
    "readCsv = pd.read_csv(originPath)\n",
    "df = pd.DataFrame(readCsv)\n",
    "\n",
    "def unixConvert(timestamp):\n",
    "    return (pd.to_datetime(timestamp) - pd.Timestamp(\"1970-01-01\")) // pd.Timedelta(\"1s\")\n",
    "\n",
    "dfTest = df.copy()\n",
    "dfTest['started_at_unix'] = dfTest['started_at'].apply(unixConvert)\n",
    "dfTest['ended_at_unix'] = dfTest['ended_at'].apply(unixConvert)\n",
    "dfTest['trip_duration'] = (round((dfTest['ended_at_unix'] - dfTest['started_at_unix'])/60, 0)).astype(int)\n",
    "dfTest = dfTest.drop(['started_at_unix', 'ended_at_unix'], axis = 1)\n",
    "dfTest = dfTest.dropna(axis = 0, how = 'any')\n",
    "dfTest.to_csv('sampleTableauTextFile.csv')\n",
    "\n",
    "for i in pathList:  \n",
    "    readPath = pd.read_csv(i)\n",
    "    newDf = (pd.DataFrame(readPath)).dropna(axis = 0, how = 'any')\n",
    "    df = pd.concat([df, newDf], axis = 0)\n",
    "\n",
    "mergeDf = df.copy()\n",
    "mergeDf['started_at_unix'] = mergeDf['started_at'].apply(unixConvert)\n",
    "mergeDf['ended_at_unix'] = mergeDf['ended_at'].apply(unixConvert)\n",
    "mergeDf['trip_duration'] = (round((mergeDf['ended_at_unix'] - mergeDf['started_at_unix'])/60, 0)).astype(int)\n",
    "cleanDf = mergeDf.copy()\n",
    "cleanDf = cleanDf.drop(['started_at_unix', 'ended_at_unix'], axis = 1)\n",
    "\n",
    "cleanDf.to_csv('citibike-2022-holiday-data.csv')"
   ]
  }
 ],
 "metadata": {
  "kernelspec": {
   "display_name": "dev0",
   "language": "python",
   "name": "python3"
  },
  "language_info": {
   "codemirror_mode": {
    "name": "ipython",
    "version": 3
   },
   "file_extension": ".py",
   "mimetype": "text/x-python",
   "name": "python",
   "nbconvert_exporter": "python",
   "pygments_lexer": "ipython3",
   "version": "3.7.13"
  }
 },
 "nbformat": 4,
 "nbformat_minor": 2
}
