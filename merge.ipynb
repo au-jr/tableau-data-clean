{
 "cells": [
  {
   "cell_type": "code",
   "execution_count": 39,
   "metadata": {},
   "outputs": [],
   "source": [
    "from pathlib import Path\n",
    "import pandas as pd"
   ]
  },
  {
   "cell_type": "code",
   "execution_count": 40,
   "metadata": {},
   "outputs": [
    {
     "name": "stderr",
     "output_type": "stream",
     "text": [
      "c:\\Users\\anups\\anaconda3\\envs\\dev0\\lib\\site-packages\\IPython\\core\\interactiveshell.py:3457: DtypeWarning: Columns (5,7) have mixed types.Specify dtype option on import or set low_memory=False.\n",
      "  exec(code_obj, self.user_global_ns, self.user_ns)\n"
     ]
    },
    {
     "data": {
      "text/html": [
       "<div>\n",
       "<style scoped>\n",
       "    .dataframe tbody tr th:only-of-type {\n",
       "        vertical-align: middle;\n",
       "    }\n",
       "\n",
       "    .dataframe tbody tr th {\n",
       "        vertical-align: top;\n",
       "    }\n",
       "\n",
       "    .dataframe thead th {\n",
       "        text-align: right;\n",
       "    }\n",
       "</style>\n",
       "<table border=\"1\" class=\"dataframe\">\n",
       "  <thead>\n",
       "    <tr style=\"text-align: right;\">\n",
       "      <th></th>\n",
       "      <th>ride_id</th>\n",
       "      <th>rideable_type</th>\n",
       "      <th>started_at</th>\n",
       "      <th>ended_at</th>\n",
       "      <th>start_station_name</th>\n",
       "      <th>start_station_id</th>\n",
       "      <th>end_station_name</th>\n",
       "      <th>end_station_id</th>\n",
       "      <th>start_lat</th>\n",
       "      <th>start_lng</th>\n",
       "      <th>end_lat</th>\n",
       "      <th>end_lng</th>\n",
       "      <th>member_casual</th>\n",
       "    </tr>\n",
       "  </thead>\n",
       "  <tbody>\n",
       "    <tr>\n",
       "      <th>0</th>\n",
       "      <td>DF1099DD189B636A</td>\n",
       "      <td>electric_bike</td>\n",
       "      <td>2022-11-05 13:49:00</td>\n",
       "      <td>2022-11-05 14:03:06</td>\n",
       "      <td>DeKalb Ave &amp; Hudson Ave</td>\n",
       "      <td>4513.06</td>\n",
       "      <td>Sterling Pl &amp; 5 Ave</td>\n",
       "      <td>4208.01</td>\n",
       "      <td>40.689888</td>\n",
       "      <td>-73.981013</td>\n",
       "      <td>40.678970</td>\n",
       "      <td>-73.978553</td>\n",
       "      <td>member</td>\n",
       "    </tr>\n",
       "    <tr>\n",
       "      <th>1</th>\n",
       "      <td>E9478DC76BC2AD5B</td>\n",
       "      <td>electric_bike</td>\n",
       "      <td>2022-11-24 17:29:32</td>\n",
       "      <td>2022-11-24 17:34:56</td>\n",
       "      <td>Sherman Ave &amp; E 166 St</td>\n",
       "      <td>8072.06</td>\n",
       "      <td>3 Ave &amp; E 170 St</td>\n",
       "      <td>8137.06</td>\n",
       "      <td>40.831305</td>\n",
       "      <td>-73.917448</td>\n",
       "      <td>40.834857</td>\n",
       "      <td>-73.903743</td>\n",
       "      <td>member</td>\n",
       "    </tr>\n",
       "    <tr>\n",
       "      <th>2</th>\n",
       "      <td>A67F4C858CAB3564</td>\n",
       "      <td>electric_bike</td>\n",
       "      <td>2022-11-04 21:18:35</td>\n",
       "      <td>2022-11-04 21:25:01</td>\n",
       "      <td>Wards Meadow Comfort Station</td>\n",
       "      <td>7327.01</td>\n",
       "      <td>E 106 St &amp; 2 Ave</td>\n",
       "      <td>7482.15</td>\n",
       "      <td>40.782940</td>\n",
       "      <td>-73.930770</td>\n",
       "      <td>40.790586</td>\n",
       "      <td>-73.941958</td>\n",
       "      <td>casual</td>\n",
       "    </tr>\n",
       "    <tr>\n",
       "      <th>3</th>\n",
       "      <td>D36E88F798DD0A1E</td>\n",
       "      <td>classic_bike</td>\n",
       "      <td>2022-11-17 17:26:48</td>\n",
       "      <td>2022-11-17 17:39:10</td>\n",
       "      <td>Sherman Ave &amp; E 166 St</td>\n",
       "      <td>8072.06</td>\n",
       "      <td>3 Ave &amp; E 170 St</td>\n",
       "      <td>8137.06</td>\n",
       "      <td>40.831254</td>\n",
       "      <td>-73.917519</td>\n",
       "      <td>40.834857</td>\n",
       "      <td>-73.903743</td>\n",
       "      <td>member</td>\n",
       "    </tr>\n",
       "    <tr>\n",
       "      <th>4</th>\n",
       "      <td>3C3E0785D7B8ECC9</td>\n",
       "      <td>classic_bike</td>\n",
       "      <td>2022-11-11 20:19:07</td>\n",
       "      <td>2022-11-11 20:34:31</td>\n",
       "      <td>Leonard St &amp; Maujer St</td>\n",
       "      <td>5148.03</td>\n",
       "      <td>Orchard St &amp; Grand St</td>\n",
       "      <td>5343.11</td>\n",
       "      <td>40.710373</td>\n",
       "      <td>-73.946998</td>\n",
       "      <td>40.717318</td>\n",
       "      <td>-73.990678</td>\n",
       "      <td>casual</td>\n",
       "    </tr>\n",
       "  </tbody>\n",
       "</table>\n",
       "</div>"
      ],
      "text/plain": [
       "            ride_id  rideable_type           started_at             ended_at  \\\n",
       "0  DF1099DD189B636A  electric_bike  2022-11-05 13:49:00  2022-11-05 14:03:06   \n",
       "1  E9478DC76BC2AD5B  electric_bike  2022-11-24 17:29:32  2022-11-24 17:34:56   \n",
       "2  A67F4C858CAB3564  electric_bike  2022-11-04 21:18:35  2022-11-04 21:25:01   \n",
       "3  D36E88F798DD0A1E   classic_bike  2022-11-17 17:26:48  2022-11-17 17:39:10   \n",
       "4  3C3E0785D7B8ECC9   classic_bike  2022-11-11 20:19:07  2022-11-11 20:34:31   \n",
       "\n",
       "             start_station_name start_station_id       end_station_name  \\\n",
       "0       DeKalb Ave & Hudson Ave          4513.06    Sterling Pl & 5 Ave   \n",
       "1        Sherman Ave & E 166 St          8072.06       3 Ave & E 170 St   \n",
       "2  Wards Meadow Comfort Station          7327.01       E 106 St & 2 Ave   \n",
       "3        Sherman Ave & E 166 St          8072.06       3 Ave & E 170 St   \n",
       "4        Leonard St & Maujer St          5148.03  Orchard St & Grand St   \n",
       "\n",
       "  end_station_id  start_lat  start_lng    end_lat    end_lng member_casual  \n",
       "0        4208.01  40.689888 -73.981013  40.678970 -73.978553        member  \n",
       "1        8137.06  40.831305 -73.917448  40.834857 -73.903743        member  \n",
       "2        7482.15  40.782940 -73.930770  40.790586 -73.941958        casual  \n",
       "3        8137.06  40.831254 -73.917519  40.834857 -73.903743        member  \n",
       "4        5343.11  40.710373 -73.946998  40.717318 -73.990678        casual  "
      ]
     },
     "execution_count": 40,
     "metadata": {},
     "output_type": "execute_result"
    }
   ],
   "source": [
    "originPath = '202211-citibike-tripdata_2.csv'\n",
    "\n",
    "pathList = ['202212-citibike-tripdata_2.csv',\n",
    "'202301-citibike-tripdata_2.csv',\n",
    "'202302-citibike-tripdata_2.csv']\n",
    "\n",
    "readCsv = pd.read_csv(originPath)\n",
    "df = pd.DataFrame(readCsv)\n",
    "df.head()"
   ]
  },
  {
   "cell_type": "code",
   "execution_count": 41,
   "metadata": {},
   "outputs": [],
   "source": [
    "def unixConvert(timestamp):\n",
    "    return (pd.to_datetime(timestamp) - pd.Timestamp(\"1970-01-01\")) // pd.Timedelta(\"1s\")"
   ]
  },
  {
   "cell_type": "code",
   "execution_count": 42,
   "metadata": {},
   "outputs": [],
   "source": [
    "dfTest = df.copy()\n",
    "dfTest['started_at_unix'] = dfTest['started_at'].apply(unixConvert)\n",
    "dfTest['ended_at_unix'] = dfTest['ended_at'].apply(unixConvert)\n",
    "dfTest['trip_duration'] = (round((dfTest['ended_at_unix'] - dfTest['started_at_unix'])/60, 0)).astype(int)\n",
    "dfTest = dfTest.drop(['started_at_unix', 'ended_at_unix'], axis = 1)\n",
    "dfTest = dfTest.dropna(axis = 0, how = 'any')"
   ]
  },
  {
   "cell_type": "code",
   "execution_count": 43,
   "metadata": {},
   "outputs": [],
   "source": [
    "dfTest.to_csv('sampleTableauTextFile.csv')"
   ]
  },
  {
   "cell_type": "code",
   "execution_count": 44,
   "metadata": {},
   "outputs": [
    {
     "name": "stdout",
     "output_type": "stream",
     "text": [
      "<class 'pandas.core.frame.DataFrame'>\n",
      "Int64Index: 995161 entries, 0 to 999999\n",
      "Data columns (total 14 columns):\n",
      " #   Column              Non-Null Count   Dtype  \n",
      "---  ------              --------------   -----  \n",
      " 0   ride_id             995161 non-null  object \n",
      " 1   rideable_type       995161 non-null  object \n",
      " 2   started_at          995161 non-null  object \n",
      " 3   ended_at            995161 non-null  object \n",
      " 4   start_station_name  995161 non-null  object \n",
      " 5   start_station_id    995161 non-null  object \n",
      " 6   end_station_name    995161 non-null  object \n",
      " 7   end_station_id      995161 non-null  object \n",
      " 8   start_lat           995161 non-null  float64\n",
      " 9   start_lng           995161 non-null  float64\n",
      " 10  end_lat             995161 non-null  float64\n",
      " 11  end_lng             995161 non-null  float64\n",
      " 12  member_casual       995161 non-null  object \n",
      " 13  trip_duration       995161 non-null  int32  \n",
      "dtypes: float64(4), int32(1), object(9)\n",
      "memory usage: 110.1+ MB\n"
     ]
    }
   ],
   "source": [
    "dfTest.info()"
   ]
  },
  {
   "cell_type": "code",
   "execution_count": 45,
   "metadata": {},
   "outputs": [
    {
     "name": "stderr",
     "output_type": "stream",
     "text": [
      "c:\\Users\\anups\\anaconda3\\envs\\dev0\\lib\\site-packages\\IPython\\core\\interactiveshell.py:3457: DtypeWarning: Columns (5,7) have mixed types.Specify dtype option on import or set low_memory=False.\n",
      "  exec(code_obj, self.user_global_ns, self.user_ns)\n"
     ]
    }
   ],
   "source": [
    "for i in pathList:  \n",
    "    readPath = pd.read_csv(i)\n",
    "    newDf = (pd.DataFrame(readPath)).dropna(axis = 0, how = 'any')\n",
    "    df = pd.concat([df, newDf], axis = 0)"
   ]
  },
  {
   "cell_type": "code",
   "execution_count": 46,
   "metadata": {},
   "outputs": [],
   "source": [
    "mergeDf = df.copy()\n",
    "mergeDf['started_at_unix'] = mergeDf['started_at'].apply(unixConvert)\n",
    "mergeDf['ended_at_unix'] = mergeDf['ended_at'].apply(unixConvert)\n",
    "mergeDf['trip_duration'] = (round((mergeDf['ended_at_unix'] - mergeDf['started_at_unix'])/60, 0)).astype(int)\n",
    "cleanDf = mergeDf.copy()\n",
    "cleanDf = cleanDf.drop(['started_at_unix', 'ended_at_unix'], axis = 1)\n"
   ]
  },
  {
   "cell_type": "code",
   "execution_count": 47,
   "metadata": {},
   "outputs": [
    {
     "name": "stdout",
     "output_type": "stream",
     "text": [
      "<class 'pandas.core.frame.DataFrame'>\n",
      "Int64Index: 3256181 entries, 0 to 752147\n",
      "Data columns (total 14 columns):\n",
      " #   Column              Dtype  \n",
      "---  ------              -----  \n",
      " 0   ride_id             object \n",
      " 1   rideable_type       object \n",
      " 2   started_at          object \n",
      " 3   ended_at            object \n",
      " 4   start_station_name  object \n",
      " 5   start_station_id    object \n",
      " 6   end_station_name    object \n",
      " 7   end_station_id      object \n",
      " 8   start_lat           float64\n",
      " 9   start_lng           float64\n",
      " 10  end_lat             float64\n",
      " 11  end_lng             float64\n",
      " 12  member_casual       object \n",
      " 13  trip_duration       int32  \n",
      "dtypes: float64(4), int32(1), object(9)\n",
      "memory usage: 360.2+ MB\n"
     ]
    }
   ],
   "source": [
    "cleanDf.info()"
   ]
  },
  {
   "cell_type": "code",
   "execution_count": 48,
   "metadata": {},
   "outputs": [],
   "source": [
    "cleanDf.to_csv('citibike-2022-holiday-data.csv')"
   ]
  }
 ],
 "metadata": {
  "kernelspec": {
   "display_name": "dev0",
   "language": "python",
   "name": "python3"
  },
  "language_info": {
   "codemirror_mode": {
    "name": "ipython",
    "version": 3
   },
   "file_extension": ".py",
   "mimetype": "text/x-python",
   "name": "python",
   "nbconvert_exporter": "python",
   "pygments_lexer": "ipython3",
   "version": "3.7.13"
  }
 },
 "nbformat": 4,
 "nbformat_minor": 2
}
